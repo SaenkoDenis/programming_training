{
 "cells": [
  {
   "cell_type": "markdown",
   "id": "1f13b2bb-e2e3-403b-bbe8-08939ee90436",
   "metadata": {},
   "source": [
    "# Список задач"
   ]
  },
  {
   "cell_type": "markdown",
   "id": "b5da7fd7-b7ac-4026-9eeb-f4182292e9ca",
   "metadata": {
    "tags": [
     "additive_inverse",
     "win"
    ]
   },
   "source": [
    "Создайте функцию, которая возвращает массив аддитивных инверсий. <br>\n",
    "Число, сложенное со своей аддитивной инверсией даёт ноль.\n",
    "\n",
    "Примеры:\n",
    "```\n",
    "[-1,2,-3,4,5]  == solution([1,-2,3,-4,-5])\n",
    "[-1,-1,-1,-10]  == solution([1,1,1,10])\n",
    "[5,-25,-125]  == solution([-5,25,125])\n",
    "```"
   ]
  },
  {
   "cell_type": "code",
   "execution_count": null,
   "id": "430d6759-e46a-4680-b9f8-369a8c1e57e6",
   "metadata": {},
   "outputs": [],
   "source": [
    "# from typing import List, Dict\n",
    "\n",
    "# def solution(numbers: List[int]) -> List[int]:\n",
    "#     s = []\n",
    "#     for i in numbers:\n",
    "#         s.append(i * -1)\n",
    "#     return s"
   ]
  }
 ],
 "metadata": {
  "kernelspec": {
   "display_name": "Python 3 (ipykernel)",
   "language": "python",
   "name": "python3"
  },
  "language_info": {
   "codemirror_mode": {
    "name": "ipython",
    "version": 3
   },
   "file_extension": ".py",
   "mimetype": "text/x-python",
   "name": "python",
   "nbconvert_exporter": "python",
   "pygments_lexer": "ipython3",
   "version": "3.8.15"
  },
  "toc-showtags": true
 },
 "nbformat": 4,
 "nbformat_minor": 5
}
