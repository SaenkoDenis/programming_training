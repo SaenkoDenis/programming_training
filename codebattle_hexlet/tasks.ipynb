{
 "cells": [
  {
   "cell_type": "markdown",
   "id": "1f13b2bb-e2e3-403b-bbe8-08939ee90436",
   "metadata": {},
   "source": [
    "# Список задач"
   ]
  },
  {
   "cell_type": "markdown",
   "id": "b5da7fd7-b7ac-4026-9eeb-f4182292e9ca",
   "metadata": {
    "tags": [
     "additive_inverse",
     "win"
    ]
   },
   "source": [
    "Создайте функцию, которая возвращает массив аддитивных инверсий. <br>\n",
    "Число, сложенное со своей аддитивной инверсией даёт ноль.\n",
    "\n",
    "Примеры:\n",
    "```python\n",
    "[-1,2,-3,4,5]  == solution([1,-2,3,-4,-5])\n",
    "[-1,-1,-1,-10]  == solution([1,1,1,10])\n",
    "[5,-25,-125]  == solution([-5,25,125])\n",
    "\n",
    "# Решение\n",
    "\n",
    "from typing import List, Dict\n",
    "\n",
    "def solution(numbers: List[int]) -> List[int]:\n",
    "    s = []\n",
    "    for i in numbers:\n",
    "        s.append(i * -1)\n",
    "    return s\n",
    "```"
   ]
  },
  {
   "cell_type": "markdown",
   "id": "61fcad4e-3f05-4baa-b6b3-701e2920f06e",
   "metadata": {
    "tags": [
     "max_abs_elem",
     "lose",
     "elementary"
    ]
   },
   "source": [
    "Найдите максимальное по модулю число в массиве.\n",
    "\n",
    "Примеры:\n",
    "```python\n",
    "4  == solution([1,-2,3,4])\n",
    "16  == solution([2,0,-16,-1])\n",
    "1  == solution([-1,-1])\n",
    "122  == solution([122,-113,100])\n",
    "\n",
    "# Решение\n",
    "\n",
    "from typing import List, Dict\n",
    "\n",
    "def solution(arr: List[int]) -> int:\n",
    "    item = []\n",
    "    for i in arr:\n",
    "        if i < 0:\n",
    "            item.append(abs(i))\n",
    "        else:\n",
    "            item.append(i)\n",
    "    any = 0\n",
    "    for i in item:\n",
    "        if any > i:\n",
    "            continue\n",
    "        else:\n",
    "            any = i\n",
    "    return any\n",
    "```    "
   ]
  },
  {
   "cell_type": "markdown",
   "id": "76243e13-8df7-47c3-abd1-9b19fb1a4a41",
   "metadata": {
    "tags": [
     "win",
     "farm_problem",
     "elementary"
    ]
   },
   "source": [
    "Фермер просит вас посчитать сколько ног у всех его животных. Фермер разводит три вида: курицы = 2 ноги коровы = 4 ноги свиньи = 4 ноги Фермер посчитал своих животных и говорит вам, сколько их каждого вида. Вы должны написать функцию, которая возвращает общее число ног всех животных.\n",
    "\n",
    "Примеры:\n",
    "```python\n",
    "36  == solution(2, 3, 5)\n",
    "22  == solution(1, 2, 3)\n",
    "50  == solution(5, 2, 8)\n",
    "\n",
    "# Решение \n",
    "from typing import List, Dict\n",
    "\n",
    "def solution(chickens: int, cows: int, pigs: int) -> int:\n",
    "    return (chickens * 2) + (cows * 4) + (pigs * 4)\n",
    "```"
   ]
  }
 ],
 "metadata": {
  "kernelspec": {
   "display_name": "Python 3 (ipykernel)",
   "language": "python",
   "name": "python3"
  },
  "language_info": {
   "codemirror_mode": {
    "name": "ipython",
    "version": 3
   },
   "file_extension": ".py",
   "mimetype": "text/x-python",
   "name": "python",
   "nbconvert_exporter": "python",
   "pygments_lexer": "ipython3",
   "version": "3.8.15"
  },
  "toc-showtags": true
 },
 "nbformat": 4,
 "nbformat_minor": 5
}
